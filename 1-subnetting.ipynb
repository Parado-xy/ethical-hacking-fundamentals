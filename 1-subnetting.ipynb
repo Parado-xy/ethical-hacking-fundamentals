{
 "cells": [
  {
   "cell_type": "markdown",
   "metadata": {},
   "source": [
    " Subnetting is the process of dividing a network into smaller, more manageable subnetworks or subnets. It allows for better organization, security, and efficient use of IP addresses. Here’s a basic overview to get you started:\n",
    "\n",
    "### Why Subnet?\n",
    "\n",
    "- **Organization**: Helps organize and segment large networks into smaller, more manageable parts.\n",
    "- **Security**: Enhances security by isolating different parts of the network.\n",
    "- **Performance**: Improves network performance by reducing traffic congestion.\n",
    "- **Efficient IP Use**: Maximizes the efficient use of IP addresses.\n",
    "\n",
    "### How Subnetting Works\n",
    "\n",
    "1. **IP Addresses**: IP addresses are divided into two parts: the network part and the host part. Subnetting involves splitting the host part to create additional networks.\n",
    "\n",
    "2. **Subnet Mask**: A subnet mask is used to determine which portion of an IP address is the network part and which is the host part. It is a 32-bit number that masks an IP address to separate the network and host addresses.\n",
    "\n",
    "### Example\n",
    "\n",
    "Let’s consider a simple example with a Class C IP address:\n",
    "\n",
    "- **IP Address**: 192.168.1.0\n",
    "- **Default Subnet Mask**: 255.255.255.0\n",
    "\n",
    "If we want to create 4 subnets, we need to borrow 2 bits from the host portion (since \\(2^2 = 4\\)).\n",
    "\n",
    "- **New Subnet Mask**: 255.255.255.192 (or /26 in CIDR notation)\n",
    "\n",
    "This creates the following subnets:\n",
    "- 192.168.1.0/26\n",
    "- 192.168.1.64/26\n",
    "- 192.168.1.128/26\n",
    "- 192.168.1.192/26\n",
    "\n",
    "Each subnet can have 62 hosts (64 addresses minus 2 for network and broadcast addresses).\n",
    "\n",
    "### Steps to Subnet\n",
    "\n",
    "1. **Determine the number of subnets needed**.\n",
    "2. **Calculate the number of bits to borrow** from the host portion to create the required number of subnets.\n",
    "3. **Determine the new subnet mask**.\n",
    "4. **Calculate the range of IP addresses** for each subnet.\n",
    "5. **Assign subnets** to different parts of the network.\n",
    "\n",
    "### Tools and Practice\n",
    "\n",
    "There are many online subnet calculators that can help with the math involved in subnetting. Additionally, practicing with subnetting exercises can greatly improve your understanding and skills.\n",
    "\n",
    "Subnetting can seem complex at first, but with practice, it becomes much easier to understand and implement.\n",
    "\n",
    "************\n",
    "Watch the Part of The Course On SUbnetting Again."
   ]
  }
 ],
 "metadata": {
  "language_info": {
   "name": "python"
  }
 },
 "nbformat": 4,
 "nbformat_minor": 2
}
